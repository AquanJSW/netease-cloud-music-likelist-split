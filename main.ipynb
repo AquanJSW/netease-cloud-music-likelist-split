{
 "cells": [
  {
   "cell_type": "markdown",
   "metadata": {},
   "source": [
    "# Config\n",
    "\n",
    "I recommand you run cell by cell..."
   ]
  },
  {
   "cell_type": "code",
   "execution_count": null,
   "metadata": {},
   "outputs": [],
   "source": [
    "import requests\n",
    "import math\n",
    "import json\n",
    "import time\n",
    "\n",
    "api_url = 'http://localhost:3000'\n",
    "\n",
    "# The basename of new playlists (basename-1, basename-2, ...)\n",
    "basename = 'likelist'\n",
    "\n",
    "# From browser's devtools(F12 in chrome) -> Network tab -> Request Headers (under any get like /login/status)\n",
    "cookie = \"\"\n",
    "\n",
    "# New playlist's max size\n",
    "max_size = 1000"
   ]
  },
  {
   "cell_type": "markdown",
   "metadata": {},
   "source": [
    "# Utils"
   ]
  },
  {
   "cell_type": "code",
   "execution_count": null,
   "metadata": {},
   "outputs": [],
   "source": [
    "# Remove duplicated while keeping order.\n",
    "def f7(seq):\n",
    "    seen = set()\n",
    "    seen_add = seen.add\n",
    "    return [x for x in seq if not (x in seen or seen_add(x))]"
   ]
  },
  {
   "cell_type": "markdown",
   "metadata": {},
   "source": [
    "# Main"
   ]
  },
  {
   "cell_type": "code",
   "execution_count": null,
   "metadata": {},
   "outputs": [],
   "source": [
    "# Wrapper of NeteaseCloudMusicAPI\n",
    "class API:\n",
    "    def __init__(self, url) -> None:\n",
    "        self.url = url\n",
    "        self.cookie = ''\n",
    "\n",
    "    def __get(self, url):\n",
    "        return requests.get(url, headers={'User-Agent': 'Mozilla/5.0 (X11; Linux x86_64) AppleWebKit/537.36 (KHTML, like Gecko) Chrome/102.0.5005.61 Safari/537.36', 'Cookie': self.cookie})\n",
    "\n",
    "    def login_status(self):\n",
    "        url = self.url + '/login/status'\n",
    "        r = self.__get(url)\n",
    "\n",
    "        return r\n",
    "    \n",
    "    def likelist(self, uid=''):\n",
    "        url = self.url + '/likelist?uid={}'.format(uid)\n",
    "        return self.__get(url)\n",
    "    \n",
    "    def playlist_track_all(self, id, limit='', offset=0):\n",
    "        url = self.url + '/playlist/track/all?id={}&limit={}&offset={}'.format(id, limit, offset)\n",
    "        r = self.__get(url)\n",
    "        return r\n",
    "    \n",
    "    def _playlist_track_all(self, id, total):\n",
    "        ret = []\n",
    "        times = math.ceil(total / 1000)\n",
    "        for i in range(times):\n",
    "            r = self.playlist_track_all(id, 1000, 1000 * i)\n",
    "            d = json.loads(r.text)\n",
    "            ret += d['songs']\n",
    "        return ret\n",
    "    \n",
    "    def user_playlist(self, uid):\n",
    "        url = self.url + '/user/playlist?uid={}'.format(uid)\n",
    "        r = self.__get(url)\n",
    "        return r\n",
    "\n",
    "    def refresh(self):\n",
    "        url = self.url + '/login/refresh'\n",
    "        r = self.__get(url)\n",
    "        return r\n",
    "    \n",
    "    def check_music(self, id, br=''):\n",
    "        url = self.url + '/check/music?id={}&br={}'.format(id, br)\n",
    "        r = self.__get(url)\n",
    "        return r\n",
    "    \n",
    "    def playlist_create(self, name, privacy='', type=''):\n",
    "        url = self.url + '/playlist/create?name={}&privacy={}&type={}'.format(name, privacy, type)\n",
    "        r = self.__get(url)\n",
    "        return r\n",
    "\n",
    "    def playlist_tracks(self, op, pid, tracks: str):\n",
    "        url = self.url + '/playlist/tracks?op={}&pid={}&tracks={}'.format(op, pid, tracks)\n",
    "        r = self.__get(url)\n",
    "        return r\n",
    "\n",
    "api = API(api_url)"
   ]
  },
  {
   "cell_type": "code",
   "execution_count": null,
   "metadata": {},
   "outputs": [],
   "source": [
    "api.cookie = cookie"
   ]
  },
  {
   "cell_type": "code",
   "execution_count": null,
   "metadata": {},
   "outputs": [],
   "source": [
    "r_login_status = api.login_status()\n",
    "try:\n",
    "    d_login_status = json.loads(r_login_status.text)\n",
    "    profile = d_login_status['data']['profile']\n",
    "    uid = profile['userId']\n",
    "    nickname = profile['nickname']\n",
    "    print('Login account profile:\\nuid: {}\\nnickname: {}'.format(uid, nickname))\n",
    "except (KeyError, TypeError):\n",
    "    print('You must login first.')\n",
    "    print(d_login_status)"
   ]
  },
  {
   "cell_type": "code",
   "execution_count": null,
   "metadata": {},
   "outputs": [],
   "source": [
    "# Get the size of likelist\n",
    "r_likelist = api.likelist()\n",
    "d_likelist = json.loads(r_likelist.text)\n",
    "c_song = len(d_likelist['ids'])\n",
    "print('total song count', c_song)"
   ]
  },
  {
   "cell_type": "code",
   "execution_count": null,
   "metadata": {},
   "outputs": [],
   "source": [
    "# Check size\n",
    "from math import ceil\n",
    "if c_song <= max_size:\n",
    "    print('The size of likelist({}) is lower than threshold({}).\\nNo need to split.'.format(c_song, max_size))"
   ]
  },
  {
   "cell_type": "code",
   "execution_count": null,
   "metadata": {},
   "outputs": [],
   "source": [
    "# Get playlists\n",
    "r_user_playlist = api.user_playlist(uid)\n",
    "d_user_playlist = json.loads(r_user_playlist.text)"
   ]
  },
  {
   "cell_type": "code",
   "execution_count": null,
   "metadata": {},
   "outputs": [],
   "source": [
    "# Get likelist id\n",
    "likelist = d_user_playlist['playlist'][0]\n",
    "id_likelist = likelist['id']"
   ]
  },
  {
   "cell_type": "code",
   "execution_count": null,
   "metadata": {},
   "outputs": [],
   "source": [
    "# Get all the tracks of likelist\n",
    "likelist_track_all = api._playlist_track_all(id_likelist, c_song)"
   ]
  },
  {
   "cell_type": "code",
   "execution_count": null,
   "metadata": {},
   "outputs": [],
   "source": [
    "# Split tracks\n",
    "def split_tracks(tracks):\n",
    "    \"\"\"Assume the tracks are in time descent order.\"\"\"\n",
    "\n",
    "    ret = {}\n",
    "    c_newlist = ceil(len(tracks) / max_size)\n",
    "    l_name_newlist = [basename + '-{}'.format(x+1) for x in range(c_newlist)]\n",
    "    print('names:\\t', l_name_newlist)\n",
    "\n",
    "    r_tracks = tracks[::-1]\n",
    "    for i, n in enumerate(l_name_newlist):\n",
    "        ret[n] = r_tracks[i * max_size : (i + 1) * max_size]\n",
    "\n",
    "    print('counts:\\t', [len(dict_newlists[n]) for n in l_name_newlist])\n",
    "    \n",
    "    return ret\n",
    "\n",
    "dict_newlists = split_tracks(likelist_track_all)"
   ]
  },
  {
   "cell_type": "code",
   "execution_count": null,
   "metadata": {},
   "outputs": [],
   "source": [
    "# Create playlists\n",
    "def create_playlist(name, songs):\n",
    "    \"\"\"\n",
    "\n",
    "    Warn\n",
    "    ---\n",
    "    Empty target playlist is recommended.\n",
    "    \"\"\"\n",
    "    r_playlist_create = api.playlist_create(name)\n",
    "    d_playlist_create = json.loads(r_playlist_create.text)\n",
    "    try:\n",
    "        id_playlist = d_playlist_create['playlist']['id']\n",
    "    except KeyError:\n",
    "        print('Failed create playlist {}'.format(name))\n",
    "        print(d_playlist_create)\n",
    "        return False\n",
    "    \n",
    "    ids_song = [str(song['id']) for song in songs[::-1]]\n",
    "    ids_song_ = f7(ids_song)\n",
    "    diff = len(ids_song) - len(ids_song_)\n",
    "    if diff:\n",
    "        print('{} duplicated songs in {}, removed'.format(diff, name))\n",
    "    ids_song = ids_song_\n",
    "\n",
    "    r_playlist_tracks_add = api.playlist_tracks('add', id_playlist, ','.join(ids_song))\n",
    "    d_playlist_tracks_add = json.loads(r_playlist_tracks_add.text)\n",
    "\n",
    "for name, songs in dict_newlists.items():\n",
    "    create_playlist(name, songs)\n",
    "    time.sleep(3)\n"
   ]
  }
 ],
 "metadata": {
  "interpreter": {
   "hash": "7f2afa48a3a843ddd87df2ef4c3ccef84f6f09b5b9a9e1d50e34dc3847741774"
  },
  "kernelspec": {
   "display_name": "Python 3.8.10 ('base')",
   "language": "python",
   "name": "python3"
  },
  "language_info": {
   "codemirror_mode": {
    "name": "ipython",
    "version": 3
   },
   "file_extension": ".py",
   "mimetype": "text/x-python",
   "name": "python",
   "nbconvert_exporter": "python",
   "pygments_lexer": "ipython3",
   "version": "3.8.10"
  },
  "orig_nbformat": 4
 },
 "nbformat": 4,
 "nbformat_minor": 2
}
